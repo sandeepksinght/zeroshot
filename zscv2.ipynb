{
 "cells": [
  {
   "cell_type": "code",
   "execution_count": 20,
   "metadata": {},
   "outputs": [
    {
     "data": {
      "text/plain": [
       "{'sequence': 'one day I will see the world',\n",
       " 'labels': ['travel', 'dancing', 'cooking'],\n",
       " 'scores': [0.9938650727272034, 0.003273790469393134, 0.0028610331937670708]}"
      ]
     },
     "execution_count": 20,
     "metadata": {},
     "output_type": "execute_result"
    }
   ],
   "source": [
    "from transformers import pipeline\n",
    "classifier = pipeline(\"zero-shot-classification\",\n",
    "                      model=\"facebook/bart-large-mnli\")\n"
   ]
  },
  {
   "cell_type": "code",
   "execution_count": 24,
   "metadata": {},
   "outputs": [
    {
     "data": {
      "text/plain": [
       "{'sequence': 'Most valuable part of the training was active participation and interacting session has made the learning process full of fun and makes easy for us to learn the concepts.',\n",
       " 'labels': ['engagement', 'content', 'trainer', 'software'],\n",
       " 'scores': [0.8635136485099792,\n",
       "  0.09164328873157501,\n",
       "  0.038385696709156036,\n",
       "  0.0064573585987091064]}"
      ]
     },
     "execution_count": 24,
     "metadata": {},
     "output_type": "execute_result"
    }
   ],
   "source": [
    "\n",
    "sequence_to_classify = \"Most valuable part of the training was active participation and interacting session has made the learning process full of fun and makes easy for us to learn the concepts.\"\n",
    "candidate_labels = ['trainer', 'content', 'software', 'engagement']\n",
    "classifier(sequence_to_classify, candidate_labels)"
   ]
  }
 ],
 "metadata": {
  "interpreter": {
   "hash": "5f2c2f351efc25596edcae8d3777973dda5583ec18fb1fb44e863b2c49b862f0"
  },
  "kernelspec": {
   "display_name": "Python 3.8.3 64-bit",
   "language": "python",
   "name": "python3"
  },
  "language_info": {
   "codemirror_mode": {
    "name": "ipython",
    "version": 3
   },
   "file_extension": ".py",
   "mimetype": "text/x-python",
   "name": "python",
   "nbconvert_exporter": "python",
   "pygments_lexer": "ipython3",
   "version": "3.8.3"
  },
  "orig_nbformat": 4
 },
 "nbformat": 4,
 "nbformat_minor": 2
}
